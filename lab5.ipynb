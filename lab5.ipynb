{
 "cells": [
  {
   "cell_type": "markdown",
   "metadata": {},
   "source": [
    "### week 5\n",
    "\n",
    "# Generalisation and Model Validation\n",
    "\n",
    "### written by Neil Lawrence (2015), with some modification by YG (2017)"
   ]
  },
  {
   "cell_type": "markdown",
   "metadata": {},
   "source": [
    "If we had to summarise the objectives of machine learning in one word, a very good candidate for that word would be *generalization*. What is generalization? From a human perspective it might be summarised as the ability to take lessons learned in one domain and apply them to another domain. If we accept the definition given in the first session for machine learning,\n",
    "$$\n",
    "  \\text{data} + \\text{model} \\rightarrow \\text{prediction}\n",
    "$$\n",
    "then we see that without a model we can't generalise: we only have data. Data is fine for answering very specific questions, like \"Who won the Olympic Marathon in 2012?\", because we have that answer stored, however, we are not given the answer to many other questions.\n",
    "\n",
    "For example, Alan Turing was a formidable marathon runner, in 1946 he ran a time 2 hours 46 minutes (just under four minutes per kilometer, faster than I and most of the other [Endcliffe Park Run](http://www.parkrun.org.uk/sheffieldhallam/) runners can do 5 km). What is the probability he would have won an Olympics if one had been held in 1946?\n",
    "\n",
    "![Alan Turing, Times in the Times](http://www.turing.org.uk/turing/pi2/times2.gif)\n",
    "![Alan Turing running in 1946](http://www.turing.org.uk/turing/pi2/run.jpg)\n",
    "<center>\n",
    "*Alan Turing, in 1946 he was only 11 minutes slower than the winner of the 1948 games. Would he have won a hypothetical games held in 1946?*<br>\n",
    "Source: [Alan Turing Internet Scrapbook](http://www.turing.org.uk/scrapbook/run.html)\n",
    "</center>\n",
    "\n",
    "To answer this question we need to generalize, but before we formalize the concept of generalization let's introduce some formal representation of what it means to generalize in machine learning."
   ]
  },
  {
   "cell_type": "markdown",
   "metadata": {},
   "source": [
    "### Expected Loss\n",
    "\n",
    "Our objective function so far has been the negative log likelihood, which we have minimized (via the sum of squares error) to obtain our model. However, there is an alternative perspective on an objective function, that of a *loss function*. A loss function is a cost function associated with the penalty you might need to pay for a particular incorrect decision. One approach to machine learning involves specifying a loss function and considering how much a particular model is likely to cost us across its lifetime. We can represent this with an expectation. If our loss function is given as $L(y,x,\\mathbf{w})$ for a particular model that predicts $y$ given $x$ and $w$ then we are interested in minimizing the expected loss under the likely distribution of $y$ and $x$. To understand this formally we define the *true* distribution of the data samples, $y$, $x$. This is a very special distribution that we don't have access to very often, and to represent that we define it with a special letter '$\\mathbb{P}$', or $\\mathbb{P}(y,x)$. If we genuinely pay $L(y,x,\\mathbf{w})$ for every mistake we make, and the future test data is genuinely drawn from $\\mathbb{P}(y,x)$ then we can define our expected loss, or risk, to be,\n",
    "$$\n",
    "  R(\\mathbf{w}) = \\int L(y,x,w) \\mathbb{P}(y,x) \\text{d}y \\text{d}x\n",
    "$$\n",
    "Of course, in practice, this value can't be computed *but* it serves as a reminder of what it is we are aiming to minimize and under certain circumstances it can be approximated.\n",
    "\n",
    "### Sample Based Approximations\n",
    "\n",
    "A sample based approximation to an expectation involves replacing the true expectation with a sum over samples from the distribution.\n",
    "$$\n",
    "  \\int f(z) p(z) \\text{d}y \\text{d}z \\approx \\frac{1}{s} \\sum_{i=1}^s f(z_i)\n",
    "$$\n",
    "if $\\{z_i\\}_{i=1}^s$ are a set of $s$ independent and identically distributed samples from the distribution $p(z)$. This approximation becomes better for larger $s$, although the *rate of convergence* to the true integral will be very dependent on the distribution $p(z)$ *and* the function $f(z)$.\n",
    "\n",
    "That said, this means we can approximate our true integral with the sum,\n",
    "$$\n",
    "  R(\\mathbf{w}) \\approx \\frac{1}{n} \\sum_{i=1}^n L(y_i, x_i, w)\n",
    "$$\n",
    "if $y_i$ and $x_i$ are independent samples from the true distribution $\\mathbb{P}(y, x)$. Minimizing this sum directly is known as *empirical risk minimization*. The sum of squares error we have been using can be recovered for this case by considering a *squared loss*,\n",
    "$$\n",
    "  L(y, x, \\mathbf{w}) = (y - \\mathbf{w}^\\top \\boldsymbol{\\phi}(x))^2\n",
    "$$\n",
    "which gives an empirical risk of the form\n",
    "$$\n",
    "  R(\\mathbf{w}) \\approx \\frac{1}{n} \\sum_{i=1}^n (y_i - \\mathbf{w}^\\top \\boldsymbol{\\phi}(x_i))^2\n",
    "$$\n",
    "which up to the constant $\\frac{1}{n}$ is identical to the objective function we have been using so far.\n",
    "\n",
    "### Estimating Risk through Validation\n",
    "\n",
    "Unfortuantely, minimising the empirial risk only guarantees something about our performance on the training data. If we don't have enough data for the approximation to the risk to be valid, then we can end up performing significantly worse on test data. Fortunately, we can also estimate the risk for test data through estimating the risk for unseen data.\n",
    "\n",
    "The main trick here is to 'hold out' a portion of our data from training and use the models performance on that sub-set of the data as a proxy for the true risk. This data is known as 'validation' data. It contrasts with test data, because it's values are known at the model design time. However, in contrast to test date we don't use it to fit our model. This means that it doesn't exhibit the same bias that the empirical risk does when estimating the true risk.\n",
    "\n",
    "In this lab we will explore techniques for model selection that make use of validation data. Data that isn't seen by the model in the learning (or fitting) phase, but is used to *validate* our choice of model from amoungst the different designs we have selected.\n",
    "\n",
    "In machine learning, we are looking to minimise the value of our objective function $E$ with respect to its parameters $\\mathbf{w}$. We do this by considering our training data. We minimize the value of the objective function as it's observed at each training point. However we are really interested in how the model will perform on future data. For evaluating that we choose to *hold out* a portion of the data for evaluating the quality of the model.\n",
    "\n",
    "We will review the different methods of model selection on the Olympics marathon data. Firstly we import the olympics data:"
   ]
  },
  {
   "cell_type": "code",
   "execution_count": 21,
   "metadata": {
    "collapsed": true
   },
   "outputs": [],
   "source": [
    "import numpy as np\n",
    "import pods\n",
    "\n",
    "data = pods.datasets.olympic_marathon_men()\n",
    "x = data['X']\n",
    "y = data['Y']"
   ]
  },
  {
   "cell_type": "markdown",
   "metadata": {},
   "source": [
    "We can plot them to check that they've loaded in correctly."
   ]
  },
  {
   "cell_type": "code",
   "execution_count": 22,
   "metadata": {},
   "outputs": [
    {
     "data": {
      "text/plain": [
       "[<matplotlib.lines.Line2D at 0xbb4c630>]"
      ]
     },
     "execution_count": 22,
     "metadata": {},
     "output_type": "execute_result"
    },
    {
     "data": {
      "image/png": "[encoded data removed]",
      "text/plain": [
       "<matplotlib.figure.Figure at 0x9d25f60>"
      ]
     },
     "metadata": {},
     "output_type": "display_data"
    }
   ],
   "source": [
    "%matplotlib inline\n",
    "import pylab as plt\n",
    "plt.plot(x, y, 'rx')"
   ]
  },
  {
   "cell_type": "markdown",
   "metadata": {},
   "source": [
    "### Hold Out Validation\n",
    "\n",
    "The first thing we'll do is fit a standard linear model to the data. We recall from previous lectures and lab classes that to do this we need to solve the system\n",
    "$$\n",
    "  \\boldsymbol{\\Phi}^\\top \\boldsymbol{\\Phi} \\mathbf{w} = \\boldsymbol{\\Phi}^\\top \\mathbf{y}\n",
    "$$\n",
    "for $\\mathbf{w}$ and use the resulting vector to make predictions at the training points and test points,\n",
    "$$\n",
    "  \\mathbf{f} = \\boldsymbol{\\Phi} \\mathbf{w}\n",
    "$$\n",
    "The prediction function can be used to compute the objective function,\n",
    "$$\n",
    "  E(\\mathbf{w}) = \\sum_{i}^n (y_i - \\mathbf{w}^\\top \\phi(\\mathbf{x}_i))^2\n",
    "$$\n",
    "by substituting in the prediction in vector form we have\n",
    "$$\n",
    "  E(\\mathbf{w}) =  (\\mathbf{y} - \\mathbf{f})^\\top (\\mathbf{y} - \\mathbf{f})\n",
    "$$"
   ]
  },
  {
   "cell_type": "markdown",
   "metadata": {},
   "source": [
    "### Assignment Question 1\n",
    "\n",
    "In this question you will construct some flexible general code for fitting linear models.\n",
    "\n",
    "Create a python function that computes $\\boldsymbol{\\Phi}$ for the linear basis,\n",
    "$$\n",
    "  \\boldsymbol{\\Phi} = \\begin{bmatrix} \\mathbf{x} & \\mathbf{1} \\end{bmatrix}\n",
    "$$\n",
    "Name your function `linear`. `Phi` should be in the form of a *design matrix* and `x` should be in the form of a `numpy` two dimensional array with $n$ rows and 1 column.  Calls to your function should be in the following form:\n",
    "\n",
    "```python\n",
    "Phi = linear(x)\n",
    "```\n",
    "\n",
    "Create a python function that accepts, as arguments, a python function that defines a basis (like the one you've just created called `linear`) as well as a set of inputs and a vector of parameters. Your new python function should return a prediction. Name your function `prediction`. The return value `f` should be a two dimensional `numpy` array with $n$ rows and $1$ column, where $n$ is the number of data points. Calls to your function should be in the following form:\n",
    "\n",
    "```python\n",
    "f = prediction(w, x, linear)\n",
    "```\n",
    "\n",
    "Create a python function that computes the sum of squares objective function (or error function). It should accept your input data (or covariates) and target data (or response variables) and your parameter vector `w` as arguments. It should also accept a python function that represents the basis. Calls to your function should be in the following form:\n",
    "\n",
    "```python\n",
    "e = objective(w, x, y, linear)\n",
    "```\n",
    "\n",
    "Create a function that solves the linear system for the set of parameters that minimizes the sum of squares objective. It should accept input data, target data and a python function for the basis as the inputs. Calls to your function should be in the following form:\n",
    "\n",
    "```python\n",
    "w = fit(x, y, linear)\n",
    "```\n",
    "\n",
    "Fit a linear model to the olympic data using these functions and plot the resulting prediction between 1890 and 2020. Set the title of the plot to be the error of the fit on the *training data*.\n",
    "\n",
    "*10 marks*"
   ]
  },
  {
   "cell_type": "code",
   "execution_count": 23,
   "metadata": {},
   "outputs": [
    {
     "name": "stdout",
     "output_type": "stream",
     "text": [
      "[[ -1.29806477e-02]\n",
      " [  2.88952457e+01]]\n",
      "1.97998376892\n"
     ]
    },
    {
     "data": {
      "text/plain": [
       "<matplotlib.text.Text at 0xc04e5f8>"
      ]
     },
     "execution_count": 23,
     "metadata": {},
     "output_type": "execute_result"
    },
    {
     "data": {
      "image/png": "[encoded data removed]",
      "text/plain": [
       "<matplotlib.figure.Figure at 0xa83e940>"
      ]
     },
     "metadata": {},
     "output_type": "display_data"
    }
   ],
   "source": [
    "# Question 1 Answer Code\n",
    "import numpy as np\n",
    "import pods\n",
    "\n",
    "def linear(x):\n",
    "    X = np.hstack((x, np.ones_like(x)))\n",
    "    return X\n",
    "Phi = linear(x)\n",
    "\n",
    "def fit(x, y, Phi):\n",
    "    W = np.linalg.solve(np.dot(Phi.T, Phi), np.dot(Phi.T, y))\n",
    "    return W\n",
    "w = fit(x, y, Phi)\n",
    "print(w)\n",
    "def prediction(w,x,Phi):\n",
    "    F = np.dot(Phi, w)\n",
    "    return F\n",
    "f = prediction(w,x, Phi)\n",
    "\n",
    "def objective(w,x, y, Phi):\n",
    "    F = np.dot(Phi, w)\n",
    "    E = np.dot((y-F).T, (y-F))\n",
    "    return E\n",
    "e = objective(w,x, y, Phi)\n",
    "print(e[0][0])\n",
    "\n",
    "plt.plot(x,y,\"rx\")\n",
    "plt.plot(x,f,\"y\")\n",
    "plt.title(e[0][0])\n",
    "\n",
    "\n"
   ]
  },
  {
   "cell_type": "markdown",
   "metadata": {},
   "source": [
    "### Polynomial Fit: Training Error\n",
    "\n",
    "The next thing we'll do is consider a quadratic fit. We will compute the training error for the two fits."
   ]
  },
  {
   "cell_type": "markdown",
   "metadata": {},
   "source": [
    "### Assignment Question 2\n",
    "\n",
    "In this question we extend the code above to a non-linear basis (a quadratic function).\n",
    "\n",
    "Start by creating a python-function called `quadratic`. It should compute the quadratic basis.\n",
    "$$\n",
    "  \\boldsymbol{\\Phi} = \\begin{bmatrix} \\mathbf{1} & \\mathbf{x} & \\mathbf{x}^2 \\end{bmatrix}\n",
    "$$\n",
    "It should be called in the following form:\n",
    "\n",
    "```python\n",
    "Phi = quadratic(x)\n",
    "```\n",
    "Use this to compute the quadratic fit for the model, again plotting the result titled by the error.\n",
    "\n",
    "*5 marks*"
   ]
  },
  {
   "cell_type": "code",
   "execution_count": 24,
   "metadata": {},
   "outputs": [
    {
     "name": "stdout",
     "output_type": "stream",
     "text": [
      "[[  6.43641954e+02]\n",
      " [ -6.42502988e-01]\n",
      " [  1.61109704e-04]]\n",
      "1.15051540383\n"
     ]
    },
    {
     "data": {
      "text/plain": [
       "<matplotlib.text.Text at 0xa898e80>"
      ]
     },
     "execution_count": 24,
     "metadata": {},
     "output_type": "execute_result"
    },
    {
     "data": {
      "image/png": "[encoded data removed]",
      "text/plain": [
       "<matplotlib.figure.Figure at 0xc0485f8>"
      ]
     },
     "metadata": {},
     "output_type": "display_data"
    }
   ],
   "source": [
    "# Question 2 Answer Code\n",
    "import numpy as np\n",
    "import pods\n",
    "\n",
    "def quadratic(x):\n",
    "    return np.hstack([np.ones_like(x), x, x**2])\n",
    "Phi = quadratic(x)\n",
    "\n",
    "def fit(x, y, Phi):\n",
    "    W = np.linalg.solve(np.dot(Phi.T, Phi), np.dot(Phi.T, y))\n",
    "    return W\n",
    "w = fit(x, y, Phi)\n",
    "print(w)\n",
    "def prediction(w, x, Phi):\n",
    "    F = np.dot(Phi, w)\n",
    "    return F\n",
    "f = prediction(w, x, Phi)\n",
    "\n",
    "def objective(w, x, y, Phi):\n",
    "    F = np.dot(Phi, w)\n",
    "    E = np.dot((y-F).T, (y-F))\n",
    "    return E\n",
    "e = objective(w, x, y, Phi)\n",
    "print(e[0][0])\n",
    "plt.plot(x,y,\"rx\")\n",
    "plt.plot(x,f,\"y\")\n",
    "plt.title(e[0][0])\n"
   ]
  },
  {
   "cell_type": "markdown",
   "metadata": {},
   "source": [
    "### Hold Out Data\n",
    "\n",
    "You have a conclusion as to which model fits best under the training error, but how do the two models perform in terms of validation? In this section we consider *hold out* validation. In hold out validation we remove a portion of the training data for *validating* the model on. The remaining data is used for fitting the model (training). Because this is a time series prediction, it makes sense for us to hold out data at the end of the time series. This means that we are validating on future predictions. We will hold out data from after 1980 and fit the model to the data before 1980."
   ]
  },
  {
   "cell_type": "code",
   "execution_count": 43,
   "metadata": {},
   "outputs": [],
   "source": [
    "# select indices of data to 'hold out'\n",
    "indices_hold_out = np.flatnonzero(x>1980)\n",
    "\n",
    "# Create a training set\n",
    "x_train = np.delete(x, indices_hold_out, axis=0)\n",
    "y_train = np.delete(y, indices_hold_out, axis=0)\n",
    "\n",
    "# Create a hold out set\n",
    "x_valid = np.take(x, indices_hold_out, axis=0)\n",
    "y_valid = np.take(y, indices_hold_out, axis=0)\n"
   ]
  },
  {
   "cell_type": "markdown",
   "metadata": {},
   "source": [
    "### Assignment Question 3\n",
    "\n",
    "For both the linear and quadratic models, fit the model to the data up until 1980 and then compute the error on the held out data (from 1980 onwards). Which model performs better on the validation data?\n",
    "\n",
    "*5 marks*"
   ]
  },
  {
   "cell_type": "code",
   "execution_count": 26,
   "metadata": {},
   "outputs": [
    {
     "name": "stdout",
     "output_type": "stream",
     "text": [
      "For the linear model, the error on the held out data is 1.91159725287\n",
      "For the quadratic model, the error on the held out data is 0.337505774656\n"
     ]
    }
   ],
   "source": [
    "# Question 3 Answer Code\n",
    "# fit model to the data up until 1980 for the linear model\n",
    "Phi_l1 = linear(x_train)\n",
    "Phi_l2 = linear(x_valid)\n",
    "w_l = fit(x_train, y_train, Phi_l1)\n",
    "# compute the error on the held out data for the linear model\n",
    "f_l = prediction(w_l, x_valid, Phi_l2)\n",
    "e_l= objective(w_l, x_valid, y_valid, Phi_l2)\n",
    "print(\"For the linear model, the error on the held out data is\", e_l[0][0])\n",
    "\n",
    "# fit model to the data up until 1980 for the quadratic model\n",
    "Phi_q1 = quadratic(x_train)\n",
    "Phi_q2 = quadratic(x_valid)\n",
    "w_q = fit(x_train, y_train, Phi_q1)\n",
    "# compute the error on the held out data for the quadratic model \n",
    "f_q = prediction(w_q, x_valid, Phi_q2)\n",
    "e_q = objective(w_q, x_valid, y_valid, Phi_q2)\n",
    "print(\"For the quadratic model, the error on the held out data is\", e_q[0][0])\n"
   ]
  },
  {
   "cell_type": "markdown",
   "metadata": {},
   "source": [
    "Because the error for the the quadratic model is smaller than that for the linear model, the quadratic model performs better on the validation data."
   ]
  },
  {
   "cell_type": "markdown",
   "metadata": {},
   "source": [
    "### Richer Basis Set\n",
    "\n",
    "Now we have an approach for deciding which model to retain, we can consider the entire family of polynomial bases, with arbitrary degrees."
   ]
  },
  {
   "cell_type": "markdown",
   "metadata": {},
   "source": [
    "### Assignment Question 4\n",
    "\n",
    "Now we are going to build a more sophisticated form of basis function, one that can accept arguments to its inputs (similar to those we used in the last week). Here we will start with a polynomial basis:\n",
    "\n",
    "```python\n",
    "def polynomial(x, degree, loc, scale):\n",
    "    degrees = np.arange(degree+1)\n",
    "    return ((x-loc)/scale)**degrees\n",
    "```\n",
    "\n",
    "The basis as we've defined it has three arguments as well as the input. The degree of the polynomial, the scale of the polynomial and the offset. These arguments need to be passed to the basis functions whenever they are called. Modify your code to pass these additional arguments to the python function for creating the basis. Do this for each of your functions `predict`, `fit` and `objective`. You will find `*args` (or `**kwargs`) useful.\n",
    "\n",
    "Write code that tries to fit different models to the data with polynomial basis. Use a maximum degree for your basis from 0 to 17. For each polynomial store the *hold out validation error* and the *training error*. When you have finished the computation plot the hold out error for your models and the training error for your p. When computing your polynomial basis use `offset=1956.` and `scale=120.` to ensure that the data is mapped (roughly) to the -1, 1 range.\n",
    "\n",
    "Which polynomial has the minimum training error? Which polynomial has the minimum validation error?\n",
    "\n",
    "*20 marks*"
   ]
  },
  {
   "cell_type": "code",
   "execution_count": 27,
   "metadata": {},
   "outputs": [
    {
     "name": "stdout",
     "output_type": "stream",
     "text": [
      "the training error with 0 degree is :\n",
      "5.73633100809\n",
      "the the hold out validation error with 0 degree is:\n",
      "2.81331279743\n",
      "the training error with 1 degree is :\n",
      "1.39277675741\n",
      "the the hold out validation error with 1 degree is:\n",
      "1.91159725287\n",
      "the training error with 2 degree is :\n",
      "1.09853618992\n",
      "the the hold out validation error with 2 degree is:\n",
      "0.337505824165\n",
      "the training error with 3 degree is :\n",
      "1.04391282619\n",
      "the the hold out validation error with 3 degree is:\n",
      "2.51374552736\n",
      "the training error with 4 degree is :\n",
      "1.02421203993\n",
      "the the hold out validation error with 4 degree is:\n",
      "26.3705749146\n",
      "the training error with 5 degree is :\n",
      "0.81024232851\n",
      "the the hold out validation error with 5 degree is:\n",
      "845.27531115\n",
      "the training error with 6 degree is :\n",
      "0.62871914167\n",
      "the the hold out validation error with 6 degree is:\n",
      "4486.28466341\n",
      "the training error with 7 degree is :\n",
      "0.610287178352\n",
      "the the hold out validation error with 7 degree is:\n",
      "764.335183464\n",
      "the training error with 8 degree is :\n",
      "0.608856463784\n",
      "the the hold out validation error with 8 degree is:\n",
      "11605.8246907\n",
      "the training error with 9 degree is :\n",
      "0.59716912176\n",
      "the the hold out validation error with 9 degree is:\n",
      "521645.469276\n",
      "the training error with 10 degree is :\n",
      "0.318721860625\n",
      "the the hold out validation error with 10 degree is:\n",
      "140450670.625\n",
      "the training error with 11 degree is :\n",
      "0.196608447632\n",
      "the the hold out validation error with 11 degree is:\n",
      "405078977.294\n",
      "the training error with 12 degree is :\n",
      "0.174204960268\n",
      "the the hold out validation error with 12 degree is:\n",
      "718732814.445\n",
      "the training error with 13 degree is :\n",
      "0.129463135029\n",
      "the the hold out validation error with 13 degree is:\n",
      "73595809972.4\n",
      "the training error with 14 degree is :\n",
      "0.111039684082\n",
      "the the hold out validation error with 14 degree is:\n",
      "136345302704.0\n",
      "the training error with 15 degree is :\n",
      "0.0286382707321\n",
      "the the hold out validation error with 15 degree is:\n",
      "3.57265698334e+13\n",
      "the training error with 16 degree is :\n",
      "0.026066852135\n",
      "the the hold out validation error with 16 degree is:\n",
      "1.83491232164e+12\n",
      "the training error with 17 degree is :\n",
      "0.0268168659782\n",
      "the the hold out validation error with 17 degree is:\n",
      "5.25686388424e+12\n"
     ]
    },
    {
     "data": {
      "text/plain": [
       "<matplotlib.text.Text at 0xc1b6748>"
      ]
     },
     "execution_count": 27,
     "metadata": {},
     "output_type": "execute_result"
    },
    {
     "data": {
      "image/png": "[encoded data removed]",
      "text/plain": [
       "<matplotlib.figure.Figure at 0xc108da0>"
      ]
     },
     "metadata": {},
     "output_type": "display_data"
    },
    {
     "data": {
      "image/png": "[encoded data removed]",
      "text/plain": [
       "<matplotlib.figure.Figure at 0xc181198>"
      ]
     },
     "metadata": {},
     "output_type": "display_data"
    }
   ],
   "source": [
    "# Question 4 Answer Code\n",
    "import numpy as np\n",
    "import pods\n",
    "\n",
    "loc = 1956\n",
    "scale = 120\n",
    "list1 = []\n",
    "list2 = []\n",
    "degree = 0\n",
    "def polynomial(x, degree, loc, scale):\n",
    "    degrees = np.arange(degree+1)\n",
    "    return ((x-loc)/scale)**degrees\n",
    "\n",
    "def fit(x, y,basis={'function':polynomial, 'degree':degree, 'loc':1956, 'scale':120}):\n",
    "    Phi_i1 = basis['function'](x_train, basis['degree'], basis['loc'], basis['scale'])\n",
    "    W = np.linalg.solve(np.dot(Phi_i1.T, Phi_i1), np.dot(Phi_i1.T, y_train))\n",
    "    return W\n",
    "\n",
    "\n",
    "def objective_i1(w, x, y, basis={'function':polynomial, 'degree':degree, 'loc':1956, 'scale':120}):\n",
    "    Phi_1 = basis['function'](x_train, basis['degree'], basis['loc'], basis['scale'])\n",
    "    F_1 = np.dot(Phi_1, w)\n",
    "    E_1 = np.dot((y-F_1).T, (y-F_1))\n",
    "    return E_1\n",
    "\n",
    "def objective_i2(w, x, y, basis={'function':polynomial, 'degree':degree, 'loc':1956, 'scale':120}):\n",
    "    Phi_2 = basis['function'](x_valid, basis['degree'], basis['loc'], basis['scale'])\n",
    "    F_2 = np.dot(Phi_2, w)\n",
    "    E_2 = np.dot((y-F_2).T, (y-F_2))\n",
    "    return E_2\n",
    "    \n",
    "\n",
    "for i in range(18):\n",
    "    basis = {'function':polynomial, 'degree':i, 'loc':1956, 'scale':120}\n",
    "    w_i = fit(x_train, y_train, basis)\n",
    "    e_i1 = objective_i1(w_i, x_train, y_train, basis)\n",
    "    list1.append(e_i1[0][0])\n",
    "    print('the training error with',i,'degree is :')\n",
    "    print(e_i1[0][0])\n",
    "    e_i2 = objective_i2(w_i, x_valid, y_valid, basis)\n",
    "    list2.append(e_i2[0][0])\n",
    "    print('the the hold out validation error with',i,'degree is:')\n",
    "    print(e_i2[0][0])\n",
    "  \n",
    "list0 = list(range(18))\n",
    "plt.subplots(figsize=(9,4))\n",
    "plt.plot(list0,list1,\"rx\")\n",
    "plt.title('training error')\n",
    "plt.subplots(figsize=(9,4))\n",
    "plt.plot(list0,list2,\"rx\")\n",
    "plt.title('validation error')\n",
    "    "
   ]
  },
  {
   "cell_type": "markdown",
   "metadata": {},
   "source": [
    "The polynomial with 16 degree has the minimum training error.\n",
    "The polynomial with 2 degree has the minimum validation error."
   ]
  },
  {
   "cell_type": "markdown",
   "metadata": {},
   "source": [
    "### Leave One Out Validation\n",
    "\n",
    "Hold out validation uses a portion of the data to hold out and a portion of the data to train on. There is always a compromise between how much data to hold out and how much data to train on. The more data you hold out, the better the estimate of your performance at 'run-time' (when the model is used to make predictions in real applications). However, by holding out more data, you leave less data to train on, so you have a better validation, but a poorer quality model fit than you could have had if you'd used all the data for training.\n",
    "\n",
    "Leave one out cross validation leaves as much data in the training phase as possible: you only take *one point* out for your validation set. However, if you do this for hold-out validation, then the quality of your validation error is very poor because you are testing the model quality on one point only. In *cross validation* the approach is to improve this estimate by doing more than one model fit. In *leave one out cross validation* you fit $n$ different models, where $n$ is the number of your data. For each model fit you take out one data point, and train the model on the remaining $n-1$ data points. You validate the model on the data point you've held out, but you do this $n$ times, once for each different model. You then take the *average* of all the $n$ badly estimated hold out validation errors. The average of this estimate is a good estimate of performance of those models on the test data."
   ]
  },
  {
   "cell_type": "markdown",
   "metadata": {},
   "source": [
    "### Assignment Question 5\n",
    "\n",
    "Write code that computes the *leave one out* validation error for the olympic data and the polynomial basis. Use the functions you have created above: `objective`, `fit`, `polynomial`. Compute the *leave-one-out* cross validation error for basis functions containing a maximum degree from 0 to 17.\n",
    "\n",
    "*15 marks*"
   ]
  },
  {
   "cell_type": "code",
   "execution_count": 28,
   "metadata": {},
   "outputs": [
    {
     "name": "stdout",
     "output_type": "stream",
     "text": [
      "when we hold out the 0 data , the validation error degree from 0 to 17 are\n",
      "[1.0137917723781287, 0.047639952697174796, 0.040294312848549459, 0.18931504093031146, 0.39891498921921908, 0.70717414419427216, 0.26088881985612433, 0.072361499342205871, 1.5383297600042998, 7.7765295376862564, 25.08758896001298, 61.534375043882157, 125.9688843341352, 159.26984317478897, 132.27342674919518, 811.02952271646041, 2608.5248119672547, 9550.4485619631669]\n",
      "when we hold out the 1 data , the validation error degree from 0 to 17 are\n",
      "[1.0010671376365379, 0.071555984375737181, 0.0012238369891542603, 0.013173391235001932, 0.015342254171753214, 0.016300872063253147, 0.048959224585594034, 0.1903080802187507, 0.45095421728188811, 0.92370370989830308, 1.6073224355089679, 2.5860618796841428, 3.7977678261727452, 3.6073928084713041, 2.7606471848706824, 10.875682745209, 27.437831545443814, 83.531023745050021]\n",
      "when we hold out the 2 data , the validation error degree from 0 to 17 are\n",
      "[3.193427981623373, 1.3934578575544367, 1.0260656281121039, 0.9918798095861624, 1.02134315403354, 1.1112438839751566, 0.98046089980001494, 0.82109117764095152, 0.8133391605546969, 0.81113093796442848, 0.80196869600922693, 0.82355083591397282, 0.770380561536121, 0.529507219094005, 0.36463907508022009, 0.8627519913888656, 1.6740047707718761, 4.1235816759807618]\n",
      "when we hold out the 3 data , the validation error degree from 0 to 17 are\n",
      "[0.46044071322133817, 0.0008782249655317104, 0.014630172434143378, 0.012336615236495077, 0.010710422563198072, 0.023431048494751881, 0.089562737067046191, 0.10684946669536276, 0.090746979692417878, 0.094262784172178565, 0.16408502366218675, 0.24491052343308237, 0.31198620253253972, 0.2665172448804089, 0.18851751583428064, 0.26340421176398582, 0.38742371674196907, 0.74399196620873509]\n",
      "when we hold out the 4 data , the validation error degree from 0 to 17 are\n",
      "[0.17432973722498871, 0.036481925199405969, 0.07665772069141423, 0.060518531199088225, 0.061712405395459351, 0.091814673679322029, 0.1253796025444347, 0.068258257675614012, 0.044570435902505819, 0.044135216460397468, 0.053012424373952767, 0.035488579830750509, 0.004231628283019301, 0.2219754475332493, 0.35603529492407299, 0.35602301631240513, 0.39993207858504104, 0.56986081576129943]\n",
      "when we hold out the 5 data , the validation error degree from 0 to 17 are\n",
      "[0.0050247441893626656, 0.18999511045262713, 0.17057348606646272, 0.1370475608158887, 0.14310088302160118, 0.14866626230390739, 0.093703126672328885, 0.025313341922752895, 0.013935893051685567, 0.016406873865432998, 0.0071343933897009496, 5.2101531073858678e-05, 0.0013172487911668354, 0.011773675077062149, 0.14716877325496538, 0.27745633958481464, 0.29317639677420876, 0.22203735827948226]\n",
      "when we hold out the 6 data , the validation error degree from 0 to 17 are\n",
      "[0.1127122550934823, 0.010587390831038912, 0.0013191541671142299, 0.0012671816927397341, 0.0022852460256556186, 0.003034879485538195, 0.032652944900830705, 0.091428227262269693, 0.09183047103753457, 0.092628524490380254, 0.13459884372474162, 0.13767217456828812, 0.07667756201161996, 0.02560764286021585, 0.02624372956443501, 0.034205222918264735, 0.062959921811631278, 0.08547628511410485]\n",
      "when we hold out the 7 data , the validation error degree from 0 to 17 are\n",
      "[0.016470561858945392, 0.067300524767210407, 0.024678590200156742, 0.0085672546272023108, 0.0076175568250180731, 0.0051534227567226311, 0.0019645526922682996, 0.0043963506299601529, 0.0010286950693791238, 0.00042907088903792182, 0.00051678827334637354, 0.00039166194327376836, 0.018268327320995904, 0.017112925761147011, 0.00032716756132454631, 1.362672474464911e-05, 1.4116533116756741e-06, 0.010872577956767616]\n",
      "when we hold out the 8 data , the validation error degree from 0 to 17 are\n",
      "[0.0090464493337581529, 0.056006086975448489, 0.010594228933227277, 0.0013500367540651341, 0.0012352419915422064, 0.00012212513533008582, 0.0061244407456862203, 8.1176155742836471e-05, 0.0023497181802773176, 0.0025822725800364313, 0.0080357834427573754, 0.020929583852992852, 0.01797149120205159, 0.00037966207540488802, 0.0027831554282839875, 0.0025755204521344505, 0.00010629230623990842, 0.0019668522068959178]\n",
      "when we hold out the 9 data , the validation error degree from 0 to 17 are\n",
      "[0.0015209783919953829, 0.056441745304758199, 0.006093370014895752, 0.00026478760319026466, 0.00037137760498931206, 9.426403588920501e-05, 0.0026235092677975836, 0.009393003796409425, 0.026306440578553563, 0.024113621454198361, 0.061850286133578458, 0.067038123683664921, 0.007593425132115264, 0.0025542823000958164, 0.010302015516485193, 0.031337112783398367, 0.027570036495588483, 0.00059302289722234721]\n",
      "when we hold out the 10 data , the validation error degree from 0 to 17 are\n",
      "[0.030745768949699177, 0.0040506775181281228, 0.081284684655203457, 0.1013888115132377, 0.10326681631078778, 0.12322794202820037, 0.068678982418372531, 0.016514653738641406, 0.024263715387300776, 0.039635613167476186, 0.041534631359570598, 0.11581744387896394, 0.17161576967809689, 0.052157851002233468, 0.011532771430572747, 0.019742657681334375, 0.083678112452715073, 0.057656246879593934]\n",
      "when we hold out the 11 data , the validation error degree from 0 to 17 are\n",
      "[0.013277784387183942, 0.030012226752635408, 0.0016647945623726533, 0.003172913339309298, 0.0020656900801075658, 0.0031438021349537051, 0.0041734933155013771, 0.022040428184674558, 0.012396877523514597, 0.010700211820718, 0.006393655599952675, 0.0016262929798665554, 0.010912354130156345, 0.038288077444939068, 0.020770430654585156, 0.018969286389242383, 0.028610936714126522, 0.050458769360775736]\n",
      "when we hold out the 12 data , the validation error degree from 0 to 17 are\n",
      "[0.0045319604954418662, 0.0050856970873489667, 0.021832388501404624, 0.02205507430315504, 0.020514339510480546, 0.020781973838221023, 0.0010245789254512449, 0.00067101796833446208, 0.005230178381383962, 0.0050291233362028858, 0.011047018964297266, 0.0087233820540466109, 3.9160375435720299e-06, 0.0028123498723220826, 0.026700297337557782, 0.025268016895430151, 0.014355093286047057, 0.02142189209879003]\n",
      "when we hold out the 13 data , the validation error degree from 0 to 17 are\n",
      "[0.094117010480002206, 0.066031939473771978, 0.0029017439332381756, 0.0045699448819393413, 0.007056445623248613, 0.008531594625676639, 0.036514009741225831, 0.017714323923773957, 0.010940782390707586, 0.014289570090867921, 0.010730047405931404, 0.026102640721374002, 0.046863447727290494, 0.0076454012678100931, 0.0027044389656319667, 0.005329959296702793, 0.0063700155640990805, 0.00025561262025143046]\n",
      "when we hold out the 14 data , the validation error degree from 0 to 17 are\n",
      "[0.1464354896744372, 0.078024628633740101, 0.0077976887151321493, 0.013540692521350884, 0.017126636387578699, 0.022235124212813432, 0.042071934382495478, 0.011315953288471868, 0.0096430717514634327, 0.014619905070779029, 0.015781183751835782, 0.037437856879484178, 0.024545944641100131, 0.0030203445883661738, 0.015585208754480571, 0.018349196358040509, 0.0097589384003059394, 0.0077751589406730662]\n",
      "when we hold out the 15 data , the validation error degree from 0 to 17 are\n",
      "[0.032295724795967561, 0.00048564278848713436, 0.026515970346013301, 0.01609242439829885, 0.014800113976208822, 0.011241902795866079, 0.01034205118329789, 0.053519806773011817, 0.046111256664704683, 0.044533525338730159, 0.036819128688345075, 0.028255981234176469, 0.079454426470944681, 0.070371225299778628, 0.033487236114979176, 0.038890616009567919, 0.060586286673962132, 0.037408968540461982]\n",
      "when we hold out the 16 data , the validation error degree from 0 to 17 are\n",
      "[0.14399708036717068, 0.028579763415675745, 0.00014193560408460438, 0.003840184643758376, 0.00428667832893253, 0.0082924674128142823, 0.0019721349264180911, 0.0031539360239050745, 0.00029934580403281782, 0.00016046908095531539, 0.00046030046665688064, 9.532426321709898e-07, 0.007585712587928623, 0.0016711564416602809, 0.0047762910541230058, 0.0032506298608588635, 0.0064772145059854291, 0.017004825921986523]\n",
      "when we hold out the 17 data , the validation error degree from 0 to 17 are\n",
      "[0.1923137308756761, 0.030625805503082464, 0.0020434093028261339, 0.010880487096455784, 0.010668346541443649, 0.016445145411778175, 0.0015641061913645015, 0.00010309139497425168, 0.0015134930861772273, 0.0010822329471906831, 0.0032718670577443773, 1.1427977037400828e-05, 1.4398469406671268e-05, 0.018331335114458787, 0.003628205484543142, 0.0031867804518248824, 0.014131740798327616, 0.0051959635315481237]\n",
      "when we hold out the 18 data , the validation error degree from 0 to 17 are\n",
      "[0.16862801624694881, 0.0085946078502442697, 3.2051899612239224e-05, 0.0030305134897248131, 0.0025008277649356944, 0.0044224361975367821, 0.0026117120880700465, 0.0009958877978938237, 3.4842369017809402e-05, 8.5208146482243342e-05, 0.00013008617032259434, 0.0044565569859308825, 0.00085924846102392949, 0.00098211017410360741, 0.0052075787036244461, 0.003674220307369603, 0.0028646310039282647, 0.017888889693464322]\n",
      "when we hold out the 19 data , the validation error degree from 0 to 17 are\n",
      "[0.20474008090476498, 0.0065499448829052318, 0.00043497126104093977, 0.0067863278739689423, 0.0056122762253574942, 0.0067603431236500748, 0.0011574655902799856, 0.0030594938114786563, 0.004451310444708036, 0.002959127088865727, 0.00071105447346396543, 0.00029402339495234625, 0.017890397876556684, 1.0077192765069954e-05, 1.3438773279259645e-05, 0.00014555717454356869, 0.0022463134488650885, 0.00019761353532295509]\n",
      "when we hold out the 20 data , the validation error degree from 0 to 17 are\n",
      "[0.17923293224586495, 1.7059106058567677e-05, 0.00040637331780214871, 0.0011615384828664033, 0.00050474926106042412, 0.00035433725962439233, 0.0047098923973605111, 0.0041007460751758826, 0.0016273690741965606, 0.001055220770414091, 3.0081542347100903e-05, 0.0019163723079518654, 0.0037602455960165644, 0.0058819987492493295, 0.0017558224255222942, 0.0011395106417530973, 2.2940372229171999e-05, 0.01127916500286987]\n",
      "when we hold out the 21 data , the validation error degree from 0 to 17 are\n",
      "[0.12476276405649463, 0.017753065394148729, 0.009799271863506074, 0.0032874576103864967, 0.0058886378470790687, 0.0087949189605793232, 0.014683265902920141, 7.6172140046809451e-06, 0.0027541685712699857, 0.0021914703367474134, 0.0045589505695419049, 4.4364271817457471e-06, 0.015990056315889754, 0.0068645244080841657, 6.4050637753479203e-05, 0.0011494593399746379, 0.0011495568671194864, 0.00019938790278977553]\n",
      "when we hold out the 22 data , the validation error degree from 0 to 17 are\n",
      "[0.13875353295209328, 0.029212338959939441, 0.006447057988043234, 0.0028501060924666704, 0.0051740902721061823, 0.010402609826058328, 0.002362487182397564, 0.00022526489793327724, 0.0017076327434390186, 0.00060507624725437221, 5.6462718593982318e-06, 0.000279099539096174, 0.012977795675925687, 0.0096559034781255847, 0.00051041500835527563, 0.00027061030735571695, 0.00035304972826493954, 0.010528287035420272]\n",
      "when we hold out the 23 data , the validation error degree from 0 to 17 are\n",
      "[0.1866006371398948, 0.027842532790313203, 0.00014105623358048454, 5.4209221928817909e-05, 0.0003691762739539571, 0.0026266593188764439, 0.0075315615266537406, 0.0010774210455091876, 0.0001799317851965035, 0.0011182915438788467, 0.0089548650138031333, 0.0005044322367202843, 0.008562184576060148, 0.017992442523134013, 0.00021584774368568044, 0.003229842240954591, 0.0089593225568256035, 0.062890949239340119]\n",
      "when we hold out the 24 data , the validation error degree from 0 to 17 are\n",
      "[0.17133381067182046, 0.06060892129073147, 0.00042966149423885163, 0.0024048492241801056, 0.0028910757287617609, 0.0065234642070937281, 0.0080742860565029551, 0.009665225511510625, 0.0022813259428839457, 0.0027640027521136259, 0.001108831575463536, 0.014134990376288896, 0.013362254944892805, 0.1083490565222793, 1.0244531914701742e-05, 0.020102381235208501, 0.10468806794268357, 0.62473782851362547]\n",
      "when we hold out the 25 data , the validation error degree from 0 to 17 are\n",
      "[0.27227851987978008, 0.036363552447481892, 0.016347220742827875, 0.0034122327994971571, 0.0046752295883063883, 0.0043526221995199748, 0.026310030689632797, 0.00013613033228803662, 0.0095704637353420507, 0.0063699949870469541, 0.0018963506973670523, 0.094101896234157295, 0.26839252672724423, 1.0724827867955746, 0.0010367471097547667, 0.35626494199397996, 2.8777857274905183, 17.352638542088883]\n",
      "when we hold out the 26 data , the validation error degree from 0 to 17 are\n",
      "[0.23551299607074541, 0.086035913517271592, 0.014297165644799176, 0.00054239131450270559, 0.0003684025950698308, 0.020576938834176526, 0.33596230119758919, 0.035327035063325844, 0.10386071517536931, 0.10515242270590938, 0.14295746488836711, 3.4547873687520392, 15.745673516254332, 59.244127401245905, 0.23382996218565361, 34.139830593496548, 380.0461888991548, 2433.0044408525459]\n"
     ]
    }
   ],
   "source": [
    "# Question 5 Answer Code\n",
    "for j in range(27):\n",
    "    list3 =[]\n",
    "    x_train = np.delete(x, j, axis=0)\n",
    "    y_train = np.delete(y, j, axis=0)\n",
    "    x_valid = np.take(x, j, axis=0)\n",
    "    y_valid = np.take(y, j, axis=0)\n",
    "    def fit(x,y,basis={'function':polynomial, 'degree':degree, 'loc':1956, 'scale':120}):\n",
    "        Phi_i1 = basis['function'](x_train, basis['degree'], basis['loc'], basis['scale'])\n",
    "        W = np.linalg.solve(np.dot(Phi_i1.T, Phi_i1), np.dot(Phi_i1.T, y_train))\n",
    "        return W\n",
    "    def objective_i2(w, x, y, basis={'function':polynomial, 'degree':degree, 'loc':1956, 'scale':120}):\n",
    "        Phi_2 = basis['function'](x_valid, basis['degree'], basis['loc'], basis['scale'])\n",
    "        F_2 = np.dot(Phi_2, w)\n",
    "        E_2 = np.dot((y-F_2).T, (y-F_2))\n",
    "        return E_2\n",
    "    for i in range(18):\n",
    "        basis = {'function':polynomial, 'degree':i, 'loc':1956, 'scale':120}\n",
    "        w_i = fit(x_train, y_train, basis)\n",
    "        e_i2 = objective_i2(w_i, x_valid, y_valid, basis)\n",
    "        list3.append(e_i2)\n",
    "        \n",
    "    print('when we hold out the',j, 'data , the validation error degree from 0 to 17 are')\n",
    "    print(list3)\n",
    "    \n",
    "\n"
   ]
  },
  {
   "cell_type": "markdown",
   "metadata": {},
   "source": [
    "### $k$-fold Cross Validation\n",
    "\n",
    "Leave one out cross validation produces a very good estimate of the performance at test time, and is particularly useful if you don't have a lot of data. In these cases you need to make as much use of your data for model fitting as possible, and having a large hold out data set (to validate model performance) can have a significant effect on the size of the data set you have to fit your model, and correspondingly, the complexity of the model you can fit. However, leave one out cross validation involves fitting $n$ models, where $n$ is your number of training data. For the olympics example, this is only 27 model fits, but in practice many data sets consist thousands or millions of data points, and fitting many millions of models for estimating validation error isn't really practical. One option is to return to *hold out* validation, but another approach is to perform $k$-fold cross validation.\n",
    "\n",
    "In $k$-fold cross validation you split your data into $k$ parts. Then you use $k-1$ of those parts for training, and hold out one part for validation. Just like we did for the hold out validation above. In *cross* validation, however, you repeat this process. You swap the part of the data you just used for validation back in to the training set and select another part for validation. You then fit the model to the new training data and validate on the portion of data you've just extracted. Each split of training/validation data is called a *fold* and since you do this process $k$ times, the procedure is known as $k$-fold cross validation. The term *cross* refers to the fact that you cross over your validation portion back into the training data every time you perform a fold."
   ]
  },
  {
   "cell_type": "markdown",
   "metadata": {},
   "source": [
    "### Assignment Question 6\n",
    "\n",
    "Perform $k$-fold cross validation on the olympic data with your polynomial basis. Use $k$ set to 5 (e.g. five fold cross validation).\n",
    "\n",
    "Do the different forms of validation select different models? Does five fold cross validation always select the same model?\n",
    "\n",
    "*Note*: The data doesn't divide into 5 equal size partitions for the five fold cross validation error. Don't worry about this too much. Two of the partitions will have an extra data point. You might find `np.random.permutation?` useful.\n",
    "\n",
    "*15 marks*"
   ]
  },
  {
   "cell_type": "code",
   "execution_count": 44,
   "metadata": {},
   "outputs": [
    {
     "name": "stderr",
     "output_type": "stream",
     "text": [
      "D:\\Anaconda3\\lib\\site-packages\\ipykernel_launcher.py:42: DeprecationWarning: using a non-integer array as obj in delete will result in an error in the future\n",
      "D:\\Anaconda3\\lib\\site-packages\\ipykernel_launcher.py:42: DeprecationWarning: in the future out of bounds indices will raise an error instead of being ignored by `numpy.delete`.\n"
     ]
    }
   ],
   "source": [
    "# Question 6 Answer Code\n",
    "import numpy as np\n",
    "import pods\n",
    "\n",
    "data = pods.datasets.olympic_marathon_men()\n",
    "x = data['X']\n",
    "y = data['Y']\n",
    "\n",
    "list_x0=[]\n",
    "list_y0=[]\n",
    "list_x1=[]\n",
    "list_y1=[]\n",
    "list_x2=[]\n",
    "list_y2=[]\n",
    "list_x3=[]\n",
    "list_y3=[]\n",
    "list_x4=[]\n",
    "list_y4=[]\n",
    "\n",
    "r = np.random.permutation(27)\n",
    "for k in range(5):\n",
    "    m = r[k]\n",
    "    list_x0.append(x[m])\n",
    "    list_y0.append(y[m])\n",
    "for k in range(6,10):\n",
    "    m = r[k]\n",
    "    list_x1.append(x[m])\n",
    "    list_y1.append(y[m]) \n",
    "for k in range(11,15):\n",
    "    m = r[k]\n",
    "    list_x2.append(x[m])\n",
    "    list_y2.append(y[m]) \n",
    "for k in range(16,21):\n",
    "    m = r[k]\n",
    "    list_x3.append(x[m])\n",
    "    list_y3.append(y[m]) \n",
    "for k in range(22,27):\n",
    "    m = r[k]\n",
    "    list_x4.append(x[m])\n",
    "    list_y4.append(y[m])\n",
    "\n",
    "x_train0 = np.delete(x, list_x0, axis=0)\n",
    "\n",
    "\n",
    "\n",
    "\n",
    "\n",
    "\n",
    "\n",
    "      \n",
    "    "
   ]
  },
  {
   "cell_type": "code",
   "execution_count": null,
   "metadata": {
    "collapsed": true
   },
   "outputs": [],
   "source": []
  }
 ],
 "metadata": {
  "kernelspec": {
   "display_name": "Python 3",
   "language": "python",
   "name": "python3"
  },
  "language_info": {
   "codemirror_mode": {
    "name": "ipython",
    "version": 3
   },
   "file_extension": ".py",
   "mimetype": "text/x-python",
   "name": "python",
   "nbconvert_exporter": "python",
   "pygments_lexer": "ipython3",
   "version": "3.6.2"
  }
 },
 "nbformat": 4,
 "nbformat_minor": 1
}
